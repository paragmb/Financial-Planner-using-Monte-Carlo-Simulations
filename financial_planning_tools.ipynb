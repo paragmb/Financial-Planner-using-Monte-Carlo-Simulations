{
 "cells": [
  {
   "cell_type": "markdown",
   "metadata": {},
   "source": [
    "# Financial Planning with APIs and Simulations\n",
    "\n",
    "In this Challenge, you’ll create two financial analysis tools by using a single Jupyter notebook:\n",
    "\n",
    "Part 1: A financial planner for emergencies. The members will be able to use this tool to visualize their current savings. The members can then determine if they have enough reserves for an emergency fund.\n",
    "\n",
    "Part 2: A financial planner for retirement. This tool will forecast the performance of their retirement portfolio in 30 years. To do this, the tool will make an Alpaca API call via the Alpaca SDK to get historical price data for use in Monte Carlo simulations.\n",
    "\n",
    "You’ll use the information from the Monte Carlo simulation to answer questions about the portfolio in your Jupyter notebook.\n",
    "\n"
   ]
  },
  {
   "cell_type": "code",
   "execution_count": 2,
   "metadata": {},
   "outputs": [],
   "source": [
    "# Import the required libraries and dependencies\n",
    "import os\n",
    "import requests\n",
    "import json\n",
    "import pandas as pd\n",
    "from dotenv import load_dotenv\n",
    "import alpaca_trade_api as tradeapi\n",
    "from MCForecastTools import MCSimulation\n",
    "\n",
    "%matplotlib inline"
   ]
  },
  {
   "cell_type": "code",
   "execution_count": 3,
   "metadata": {},
   "outputs": [
    {
     "data": {
      "text/plain": [
       "True"
      ]
     },
     "execution_count": 3,
     "metadata": {},
     "output_type": "execute_result"
    }
   ],
   "source": [
    "# Load the environment variables from the .env file\n",
    "#by calling the load_dotenv function\n",
    "load_dotenv()"
   ]
  },
  {
   "cell_type": "markdown",
   "metadata": {},
   "source": [
    "## Part 1: Create a Financial Planner for Emergencies"
   ]
  },
  {
   "cell_type": "markdown",
   "metadata": {},
   "source": [
    "### Evaluate the Cryptocurrency Wallet by Using the Requests Library\n",
    "\n",
    "In this section, you’ll determine the current value of a member’s cryptocurrency wallet. You’ll collect the current prices for the Bitcoin and Ethereum cryptocurrencies by using the Python Requests library. For the prototype, you’ll assume that the member holds the 1.2 Bitcoins (BTC) and 5.3 Ethereum coins (ETH). To do all this, complete the following steps:\n",
    "\n",
    "1. Create a variable named `monthly_income`, and set its value to `12000`.\n",
    "\n",
    "2. Use the Requests library to get the current price (in US dollars) of Bitcoin (BTC) and Ethereum (ETH) by using the API endpoints that the starter code supplies.\n",
    "\n",
    "3. Navigate the JSON response object to access the current price of each coin, and store each in a variable.\n",
    "\n",
    "    > **Hint** Note the specific identifier for each cryptocurrency in the API JSON response. The Bitcoin identifier is `1`, and the Ethereum identifier is `1027`.\n",
    "\n",
    "4. Calculate the value, in US dollars, of the current amount of each cryptocurrency and of the entire cryptocurrency wallet.\n",
    "\n"
   ]
  },
  {
   "cell_type": "code",
   "execution_count": 4,
   "metadata": {},
   "outputs": [],
   "source": [
    "# The current number of coins for each cryptocurrency asset held in the portfolio.\n",
    "btc_coins = 1.2\n",
    "eth_coins = 5.3"
   ]
  },
  {
   "cell_type": "markdown",
   "metadata": {},
   "source": [
    "#### Step 1: Create a variable named `monthly_income`, and set its value to `12000`."
   ]
  },
  {
   "cell_type": "code",
   "execution_count": 5,
   "metadata": {},
   "outputs": [],
   "source": [
    "# The monthly amount for the member's household income\n",
    "monthly_income = 12000"
   ]
  },
  {
   "cell_type": "markdown",
   "metadata": {},
   "source": [
    "#### Review the endpoint URLs for the API calls to Free Crypto API in order to get the current pricing information for both BTC and ETH."
   ]
  },
  {
   "cell_type": "code",
   "execution_count": 6,
   "metadata": {},
   "outputs": [],
   "source": [
    "# The Free Crypto API Call endpoint URLs for the held cryptocurrency assets\n",
    "btc_url = \"https://api.alternative.me/v2/ticker/Bitcoin/?convert=USD\"\n",
    "eth_url = \"https://api.alternative.me/v2/ticker/Ethereum/?convert=USD\""
   ]
  },
  {
   "cell_type": "markdown",
   "metadata": {},
   "source": [
    "#### Step 2. Use the Requests library to get the current price (in US dollars) of Bitcoin (BTC) and Ethereum (ETH) by using the API endpoints that the starter code supplied."
   ]
  },
  {
   "cell_type": "code",
   "execution_count": 7,
   "metadata": {},
   "outputs": [
    {
     "name": "stdout",
     "output_type": "stream",
     "text": [
      "{\n",
      "  \"data\": {\n",
      "    \"1\": {\n",
      "      \"circulating_supply\": 18941493,\n",
      "      \"id\": 1,\n",
      "      \"last_updated\": 1643311704,\n",
      "      \"max_supply\": 21000000,\n",
      "      \"name\": \"Bitcoin\",\n",
      "      \"quotes\": {\n",
      "        \"USD\": {\n",
      "          \"market_cap\": 687276123595,\n",
      "          \"percent_change_1h\": 0.131229897829198,\n",
      "          \"percent_change_24h\": -5.10515802160585,\n",
      "          \"percent_change_7d\": -13.3336646055571,\n",
      "          \"percentage_change_1h\": 0.131229897829198,\n",
      "          \"percentage_change_24h\": -5.10515802160585,\n",
      "          \"percentage_change_7d\": -13.3336646055571,\n",
      "          \"price\": 36183.0,\n",
      "          \"volume_24h\": 23265577009\n",
      "        }\n",
      "      },\n",
      "      \"rank\": 1,\n",
      "      \"symbol\": \"BTC\",\n",
      "      \"total_supply\": 18941493,\n",
      "      \"website_slug\": \"bitcoin\"\n",
      "    }\n",
      "  },\n",
      "  \"metadata\": {\n",
      "    \"error\": null,\n",
      "    \"num_cryptocurrencies\": 3105,\n",
      "    \"timestamp\": 1643311704\n",
      "  }\n",
      "}\n"
     ]
    }
   ],
   "source": [
    "# Using the Python requests library, make an API call to access the current price of BTC\n",
    "btc_response = requests.get(btc_url).json()\n",
    "\n",
    "# Use the json.dumps function to review the response data from the API call\n",
    "# Use the indent and sort_keys parameters to make the response object readable\n",
    "print(json.dumps(btc_response, indent=2, sort_keys=True))"
   ]
  },
  {
   "cell_type": "code",
   "execution_count": 8,
   "metadata": {},
   "outputs": [
    {
     "name": "stdout",
     "output_type": "stream",
     "text": [
      "{\n",
      "  \"data\": {\n",
      "    \"1027\": {\n",
      "      \"circulating_supply\": 119336398,\n",
      "      \"id\": 1027,\n",
      "      \"last_updated\": 1643311709,\n",
      "      \"max_supply\": 0,\n",
      "      \"name\": \"Ethereum\",\n",
      "      \"quotes\": {\n",
      "        \"USD\": {\n",
      "          \"market_cap\": 290971815384,\n",
      "          \"percent_change_1h\": -0.390550250457202,\n",
      "          \"percent_change_24h\": -7.89478362459049,\n",
      "          \"percent_change_7d\": -21.6849474228727,\n",
      "          \"percentage_change_1h\": -0.390550250457202,\n",
      "          \"percentage_change_24h\": -7.89478362459049,\n",
      "          \"percentage_change_7d\": -21.6849474228727,\n",
      "          \"price\": 2425.43,\n",
      "          \"volume_24h\": 18582845171\n",
      "        }\n",
      "      },\n",
      "      \"rank\": 2,\n",
      "      \"symbol\": \"ETH\",\n",
      "      \"total_supply\": 119336398,\n",
      "      \"website_slug\": \"ethereum\"\n",
      "    }\n",
      "  },\n",
      "  \"metadata\": {\n",
      "    \"error\": null,\n",
      "    \"num_cryptocurrencies\": 3105,\n",
      "    \"timestamp\": 1643311709\n",
      "  }\n",
      "}\n"
     ]
    }
   ],
   "source": [
    "# Using the Python requests library, make an API call to access the current price ETH\n",
    "eth_response = requests.get(eth_url).json()\n",
    "\n",
    "# Use the json.dumps function to review the response data from the API call\n",
    "# Use the indent and sort_keys parameters to make the response object readable\n",
    "print(json.dumps(eth_response, indent=2, sort_keys=True))"
   ]
  },
  {
   "cell_type": "markdown",
   "metadata": {},
   "source": [
    "#### Step 3: Navigate the JSON response object to access the current price of each coin, and store each in a variable."
   ]
  },
  {
   "cell_type": "code",
   "execution_count": 9,
   "metadata": {},
   "outputs": [
    {
     "name": "stdout",
     "output_type": "stream",
     "text": [
      "The price of BTC is $36183.0\n"
     ]
    }
   ],
   "source": [
    "# Navigate the BTC response object to access the current price of BTC\n",
    "btc_price = btc_response[\"data\"][\"1\"][\"quotes\"][\"USD\"]['price']\n",
    "\n",
    "# Print the current price of BTC\n",
    "print(f\"The price of BTC is ${btc_price}\")"
   ]
  },
  {
   "cell_type": "code",
   "execution_count": 10,
   "metadata": {},
   "outputs": [
    {
     "name": "stdout",
     "output_type": "stream",
     "text": [
      "The price of BTC is $2425.43\n"
     ]
    }
   ],
   "source": [
    "# Navigate the BTC response object to access the current price of ETH\n",
    "eth_price = eth_response[\"data\"][\"1027\"][\"quotes\"][\"USD\"]['price']\n",
    "\n",
    "# Print the current price of ETH\n",
    "print(f\"The price of BTC is ${eth_price}\")"
   ]
  },
  {
   "cell_type": "markdown",
   "metadata": {},
   "source": [
    "### Step 4: Calculate the value, in US dollars, of the current amount of each cryptocurrency and of the entire cryptocurrency wallet."
   ]
  },
  {
   "cell_type": "code",
   "execution_count": 11,
   "metadata": {},
   "outputs": [
    {
     "name": "stdout",
     "output_type": "stream",
     "text": [
      "The current value of the BTC holding is $ 43419.60\n"
     ]
    }
   ],
   "source": [
    "# Compute the current value of the BTC holding \n",
    "# The current value of the BTC holding is the btc_price multiplied by the number of btc coins (btc_coins)\n",
    "btc_value = btc_price * btc_coins\n",
    "\n",
    "# Print current value of your holding in BTC\n",
    "print(f\"The current value of the BTC holding is ${btc_value: .2f}\")"
   ]
  },
  {
   "cell_type": "code",
   "execution_count": 12,
   "metadata": {},
   "outputs": [
    {
     "name": "stdout",
     "output_type": "stream",
     "text": [
      "The current value of the ETH holding is $ 12854.78\n"
     ]
    }
   ],
   "source": [
    "# Compute the current value of the ETH holding \n",
    "# The current value of the ETH holding is the eth_price multiplied by the number of eth coins (eth_coins)\n",
    "eth_value = eth_price * eth_coins\n",
    "\n",
    "# Print current value of your holding in ETH\n",
    "print(f\"The current value of the ETH holding is ${eth_value: .2f}\")"
   ]
  },
  {
   "cell_type": "code",
   "execution_count": 13,
   "metadata": {},
   "outputs": [
    {
     "name": "stdout",
     "output_type": "stream",
     "text": [
      "The total current value of the cryptocurrency wallet is $ 56274.38\n"
     ]
    }
   ],
   "source": [
    "# Compute the total value of the cryptocurrency wallet\n",
    "# Add the value of the BTC holding to the value of the ETH holding\n",
    "total_crypto_wallet = btc_value + eth_value\n",
    "\n",
    "# Print current cryptocurrency wallet balance\n",
    "print(f\"The total current value of the cryptocurrency wallet is ${total_crypto_wallet: .2f}\")"
   ]
  },
  {
   "cell_type": "markdown",
   "metadata": {},
   "source": [
    "### Evaluate the Stock and Bond Holdings by Using the Alpaca SDK\n",
    "\n",
    "In this section, you’ll determine the current value of a member’s stock and bond holdings. You’ll make an API call to Alpaca via the Alpaca SDK to get the current closing prices of the SPDR S&P 500 ETF Trust (ticker: SPY) and of the iShares Core US Aggregate Bond ETF (ticker: AGG). For the prototype, assume that the member holds 110 shares of SPY, which represents the stock portion of their portfolio, and 200 shares of AGG, which represents the bond portion. To do all this, complete the following steps:\n",
    "\n",
    "1. In the `Starter_Code` folder, create an environment file (`.env`) to store the values of your Alpaca API key and Alpaca secret key.\n",
    "\n",
    "2. Set the variables for the Alpaca API and secret keys. Using the Alpaca SDK, create the Alpaca `tradeapi.REST` object. In this object, include the parameters for the Alpaca API key, the secret key, and the version number.\n",
    "\n",
    "3. Set the following parameters for the Alpaca API call:\n",
    "\n",
    "    - `tickers`: Use the tickers for the member’s stock and bond holdings.\n",
    "\n",
    "    - `timeframe`: Use a time frame of one day.\n",
    "\n",
    "    - `start_date` and `end_date`: Use the same date for these parameters, and format them with the date of the previous weekday (or `2020-08-07`). This is because you want the one closing price for the most-recent trading day.\n",
    "\n",
    "4. Get the current closing prices for `SPY` and `AGG` by using the Alpaca `get_barset` function. Format the response as a Pandas DataFrame by including the `df` property at the end of the `get_barset` function.\n",
    "\n",
    "5. Navigating the Alpaca response DataFrame, select the `SPY` and `AGG` closing prices, and store them as variables.\n",
    "\n",
    "6. Calculate the value, in US dollars, of the current amount of shares in each of the stock and bond portions of the portfolio, and print the results.\n"
   ]
  },
  {
   "cell_type": "markdown",
   "metadata": {},
   "source": [
    "#### Review the total number of shares held in both (SPY) and (AGG)."
   ]
  },
  {
   "cell_type": "code",
   "execution_count": 14,
   "metadata": {},
   "outputs": [],
   "source": [
    "# Current amount of shares held in both the stock (SPY) and bond (AGG) portion of the portfolio.\n",
    "spy_shares = 110\n",
    "agg_shares = 200\n"
   ]
  },
  {
   "cell_type": "markdown",
   "metadata": {},
   "source": [
    "#### Step 1: In the `Starter_Code` folder, create an environment file (`.env`) to store the values of your Alpaca API key and Alpaca secret key."
   ]
  },
  {
   "cell_type": "markdown",
   "metadata": {},
   "source": [
    "#### Step 2: Set the variables for the Alpaca API and secret keys. Using the Alpaca SDK, create the Alpaca `tradeapi.REST` object. In this object, include the parameters for the Alpaca API key, the secret key, and the version number."
   ]
  },
  {
   "cell_type": "code",
   "execution_count": 15,
   "metadata": {},
   "outputs": [],
   "source": [
    "# Set the variables for the Alpaca API and secret keys\n",
    "alpaca_api_key = os.getenv(\"ALPACA_API_KEY\")\n",
    "alpaca_secret_key = os.getenv(\"ALPACA_SECRET_KEY\")\n",
    "#display(type(alpaca_api_key))\n",
    "#display(type(alpaca_secret_key))\n",
    "\n",
    "# Create the Alpaca tradeapi.REST object\n",
    "alpaca = tradeapi.REST(\n",
    "  alpaca_api_key,\n",
    "  alpaca_secret_key,\n",
    "  api_version = \"v2\"\n",
    ")"
   ]
  },
  {
   "cell_type": "markdown",
   "metadata": {},
   "source": [
    "#### Step 3: Set the following parameters for the Alpaca API call:\n",
    "\n",
    "- `tickers`: Use the tickers for the member’s stock and bond holdings.\n",
    "\n",
    "- `timeframe`: Use a time frame of one day.\n",
    "\n",
    "- `start_date` and `end_date`: Use the same date for these parameters, and format them with the date of the previous weekday (or `2020-08-07`). This is because you want the one closing price for the most-recent trading day.\n"
   ]
  },
  {
   "cell_type": "code",
   "execution_count": 40,
   "metadata": {},
   "outputs": [],
   "source": [
    "# Set the tickers for both the bond and stock portion of the portfolio\n",
    "tickers = [\"SPY\",\"AGG\"]\n",
    "\n",
    "# Set timeframe to 1D \n",
    "timeframe = \"1D\"\n",
    "\n",
    "# Format current date as ISO format\n",
    "# Set both the start and end date at the date of your prior weekday \n",
    "# This will give you the closing price of the previous trading day\n",
    "# Alternatively you can use a start and end date of 2020-08-07\n",
    "start_date = pd.Timestamp(\"2022-01-26\", tz=\"America/New_York\").isoformat()\n",
    "end_date = pd.Timestamp(\"2022-01-26\", tz=\"America/New_York\").isoformat()"
   ]
  },
  {
   "cell_type": "markdown",
   "metadata": {},
   "source": [
    "#### Step 4: Get the current closing prices for `SPY` and `AGG` by using the Alpaca `get_barset` function. Format the response as a Pandas DataFrame by including the `df` property at the end of the `get_barset` function."
   ]
  },
  {
   "cell_type": "code",
   "execution_count": 41,
   "metadata": {},
   "outputs": [
    {
     "data": {
      "text/html": [
       "<div>\n",
       "<style scoped>\n",
       "    .dataframe tbody tr th:only-of-type {\n",
       "        vertical-align: middle;\n",
       "    }\n",
       "\n",
       "    .dataframe tbody tr th {\n",
       "        vertical-align: top;\n",
       "    }\n",
       "\n",
       "    .dataframe thead tr th {\n",
       "        text-align: left;\n",
       "    }\n",
       "\n",
       "    .dataframe thead tr:last-of-type th {\n",
       "        text-align: right;\n",
       "    }\n",
       "</style>\n",
       "<table border=\"1\" class=\"dataframe\">\n",
       "  <thead>\n",
       "    <tr>\n",
       "      <th></th>\n",
       "      <th colspan=\"5\" halign=\"left\">AGG</th>\n",
       "      <th colspan=\"5\" halign=\"left\">SPY</th>\n",
       "    </tr>\n",
       "    <tr>\n",
       "      <th></th>\n",
       "      <th>open</th>\n",
       "      <th>high</th>\n",
       "      <th>low</th>\n",
       "      <th>close</th>\n",
       "      <th>volume</th>\n",
       "      <th>open</th>\n",
       "      <th>high</th>\n",
       "      <th>low</th>\n",
       "      <th>close</th>\n",
       "      <th>volume</th>\n",
       "    </tr>\n",
       "    <tr>\n",
       "      <th>time</th>\n",
       "      <th></th>\n",
       "      <th></th>\n",
       "      <th></th>\n",
       "      <th></th>\n",
       "      <th></th>\n",
       "      <th></th>\n",
       "      <th></th>\n",
       "      <th></th>\n",
       "      <th></th>\n",
       "      <th></th>\n",
       "    </tr>\n",
       "  </thead>\n",
       "  <tbody>\n",
       "    <tr>\n",
       "      <th>2022-01-26 00:00:00-05:00</th>\n",
       "      <td>112.06</td>\n",
       "      <td>112.13</td>\n",
       "      <td>111.36</td>\n",
       "      <td>111.36</td>\n",
       "      <td>10170465</td>\n",
       "      <td>440.72</td>\n",
       "      <td>444.04</td>\n",
       "      <td>428.86</td>\n",
       "      <td>433.45</td>\n",
       "      <td>174214548</td>\n",
       "    </tr>\n",
       "  </tbody>\n",
       "</table>\n",
       "</div>"
      ],
      "text/plain": [
       "                              AGG                                       SPY  \\\n",
       "                             open    high     low   close    volume    open   \n",
       "time                                                                          \n",
       "2022-01-26 00:00:00-05:00  112.06  112.13  111.36  111.36  10170465  440.72   \n",
       "\n",
       "                                                              \n",
       "                             high     low   close     volume  \n",
       "time                                                          \n",
       "2022-01-26 00:00:00-05:00  444.04  428.86  433.45  174214548  "
      ]
     },
     "metadata": {},
     "output_type": "display_data"
    }
   ],
   "source": [
    "# Use the Alpaca get_barset function to get current closing prices the portfolio\n",
    "# Be sure to set the `df` property after the function to format the response object as a DataFrame\n",
    "closing_prices_df = alpaca.get_barset(\n",
    "  tickers,\n",
    "  timeframe,\n",
    "  start=start_date,\n",
    "  end=end_date,\n",
    ").df\n",
    "\n",
    "# Review the first 5 rows of the Alpaca DataFrame\n",
    "display(closing_prices_df.head())"
   ]
  },
  {
   "cell_type": "markdown",
   "metadata": {},
   "source": [
    "#### Step 5: Navigating the Alpaca response DataFrame, select the `SPY` and `AGG` closing prices, and store them as variables."
   ]
  },
  {
   "cell_type": "code",
   "execution_count": 42,
   "metadata": {},
   "outputs": [
    {
     "name": "stdout",
     "output_type": "stream",
     "text": [
      "The AGG closing price is $ 111.36\n"
     ]
    }
   ],
   "source": [
    "# Access the closing price for AGG from the Alpaca DataFrame\n",
    "# Converting the value to a floating point number\n",
    "agg_close_price = closing_prices_df[\"AGG\"][\"close\"][0]\n",
    "\n",
    "# Print the AGG closing price\n",
    "print(f\"The AGG closing price is ${agg_close_price: .2f}\")"
   ]
  },
  {
   "cell_type": "code",
   "execution_count": 43,
   "metadata": {},
   "outputs": [
    {
     "name": "stdout",
     "output_type": "stream",
     "text": [
      "The AGG closing price is $ 433.45\n"
     ]
    }
   ],
   "source": [
    "# Access the closing price for SPY from the Alpaca DataFrame\n",
    "# Converting the value to a floating point number\n",
    "spy_close_price = closing_prices_df[\"SPY\"][\"close\"][0]\n",
    "\n",
    "# Print the SPY closing price\n",
    "print(f\"The AGG closing price is ${spy_close_price: .2f}\")"
   ]
  },
  {
   "cell_type": "markdown",
   "metadata": {},
   "source": [
    "#### Step 6: Calculate the value, in US dollars, of the current amount of shares in each of the stock and bond portions of the portfolio, and print the results."
   ]
  },
  {
   "cell_type": "code",
   "execution_count": 44,
   "metadata": {},
   "outputs": [
    {
     "name": "stdout",
     "output_type": "stream",
     "text": [
      "The current value of the bond portfolio is $ 22272.00\n"
     ]
    }
   ],
   "source": [
    "# Calculate the current value of the bond portion of the portfolio\n",
    "agg_value = agg_close_price * agg_shares\n",
    "\n",
    "# Print the current value of the bond portfolio\n",
    "print(f\"The current value of the bond portfolio is ${agg_value: .2f}\")"
   ]
  },
  {
   "cell_type": "code",
   "execution_count": 45,
   "metadata": {},
   "outputs": [
    {
     "name": "stdout",
     "output_type": "stream",
     "text": [
      "The current value of the stock portfolio is $ 47679.50\n"
     ]
    }
   ],
   "source": [
    "# Calculate the current value of the stock portion of the portfolio\n",
    "spy_value = spy_close_price * spy_shares\n",
    "\n",
    "# Print the current value of the stock portfolio\n",
    "print(f\"The current value of the stock portfolio is ${spy_value: .2f}\")"
   ]
  },
  {
   "cell_type": "code",
   "execution_count": 46,
   "metadata": {},
   "outputs": [
    {
     "name": "stdout",
     "output_type": "stream",
     "text": [
      "The current balance of the stock and bond portion of the portfolio is $ 69951.50\n"
     ]
    }
   ],
   "source": [
    "# Calculate the total value of the stock and bond portion of the portfolio\n",
    "total_stocks_bonds = agg_value + spy_value\n",
    "\n",
    "# Print the current balance of the stock and bond portion of the portfolio\n",
    "print(f\"The current balance of the stock and bond portion of the portfolio is ${total_stocks_bonds: .2f}\")"
   ]
  },
  {
   "cell_type": "code",
   "execution_count": 47,
   "metadata": {},
   "outputs": [
    {
     "name": "stdout",
     "output_type": "stream",
     "text": [
      "The total value of the member's entire savings portfolio is $ 126225.88\n"
     ]
    }
   ],
   "source": [
    "# Calculate the total value of the member's entire savings portfolio\n",
    "# Add the value of the cryptocurrency walled to the value of the total stocks and bonds\n",
    "total_portfolio = total_crypto_wallet + total_stocks_bonds\n",
    "\n",
    "# Print current cryptocurrency wallet balance\n",
    "# YOUR CODE HERE\n",
    "print(f\"The total value of the member's entire savings portfolio is ${total_portfolio: .2f}\")"
   ]
  },
  {
   "cell_type": "markdown",
   "metadata": {},
   "source": [
    "### Evaluate the Emergency Fund\n",
    "\n",
    "In this section, you’ll use the valuations for the cryptocurrency wallet and for the stock and bond portions of the portfolio to determine if the credit union member has enough savings to build an emergency fund into their financial plan. To do this, complete the following steps:\n",
    "\n",
    "1. Create a Python list named `savings_data` that has two elements. The first element contains the total value of the cryptocurrency wallet. The second element contains the total value of the stock and bond portions of the portfolio.\n",
    "\n",
    "2. Use the `savings_data` list to create a Pandas DataFrame named `savings_df`, and then display this DataFrame. The function to create the DataFrame should take the following three parameters:\n",
    "\n",
    "    - `savings_data`: Use the list that you just created.\n",
    "\n",
    "    - `columns`: Set this parameter equal to a Python list with a single value called `amount`.\n",
    "\n",
    "    - `index`: Set this parameter equal to a Python list with the values of `crypto` and `stock/bond`.\n",
    "\n",
    "3. Use the `savings_df` DataFrame to plot a pie chart that visualizes the composition of the member’s portfolio. The y-axis of the pie chart uses `amount`. Be sure to add a title.\n",
    "\n",
    "4. Using Python, determine if the current portfolio has enough to create an emergency fund as part of the member’s financial plan. Ideally, an emergency fund should equal to three times the member’s monthly income. To do this, implement the following steps:\n",
    "\n",
    "    1. Create a variable named `emergency_fund_value`, and set it equal to three times the value of the member’s `monthly_income` of $12000. (You set this earlier in Part 1).\n",
    "\n",
    "    2. Create a series of three if statements to determine if the member’s total portfolio is large enough to fund the emergency portfolio:\n",
    "\n",
    "        1. If the total portfolio value is greater than the emergency fund value, display a message congratulating the member for having enough money in this fund.\n",
    "\n",
    "        2. Else if the total portfolio value is equal to the emergency fund value, display a message congratulating the member on reaching this important financial goal.\n",
    "\n",
    "        3. Else the total portfolio is less than the emergency fund value, so display a message showing how many dollars away the member is from reaching the goal. (Subtract the total portfolio value from the emergency fund value.)\n"
   ]
  },
  {
   "cell_type": "markdown",
   "metadata": {},
   "source": [
    "#### Step 1: Create a Python list named `savings_data` that has two elements. The first element contains the total value of the cryptocurrency wallet. The second element contains the total value of the stock and bond portions of the portfolio."
   ]
  },
  {
   "cell_type": "code",
   "execution_count": 48,
   "metadata": {},
   "outputs": [
    {
     "data": {
      "text/plain": [
       "[56274.379, 69951.5]"
      ]
     },
     "execution_count": 48,
     "metadata": {},
     "output_type": "execute_result"
    }
   ],
   "source": [
    "# Consolidate financial assets data into a Python list\n",
    "savings_data = [total_crypto_wallet, total_stocks_bonds]\n",
    "# Review the Python list savings_data\n",
    "# YOUR CODE HERE\n",
    "savings_data"
   ]
  },
  {
   "cell_type": "markdown",
   "metadata": {},
   "source": [
    "#### Step 2: Use the `savings_data` list to create a Pandas DataFrame named `savings_df`, and then display this DataFrame. The function to create the DataFrame should take the following three parameters:\n",
    "\n",
    "- `savings_data`: Use the list that you just created.\n",
    "\n",
    "- `columns`: Set this parameter equal to a Python list with a single value called `amount`.\n",
    "\n",
    "- `index`: Set this parameter equal to a Python list with the values of `crypto` and `stock/bond`.\n"
   ]
  },
  {
   "cell_type": "code",
   "execution_count": 49,
   "metadata": {},
   "outputs": [
    {
     "data": {
      "text/html": [
       "<div>\n",
       "<style scoped>\n",
       "    .dataframe tbody tr th:only-of-type {\n",
       "        vertical-align: middle;\n",
       "    }\n",
       "\n",
       "    .dataframe tbody tr th {\n",
       "        vertical-align: top;\n",
       "    }\n",
       "\n",
       "    .dataframe thead th {\n",
       "        text-align: right;\n",
       "    }\n",
       "</style>\n",
       "<table border=\"1\" class=\"dataframe\">\n",
       "  <thead>\n",
       "    <tr style=\"text-align: right;\">\n",
       "      <th></th>\n",
       "      <th>amount</th>\n",
       "    </tr>\n",
       "  </thead>\n",
       "  <tbody>\n",
       "    <tr>\n",
       "      <th>crypto</th>\n",
       "      <td>56274.379</td>\n",
       "    </tr>\n",
       "    <tr>\n",
       "      <th>stock/bond</th>\n",
       "      <td>69951.500</td>\n",
       "    </tr>\n",
       "  </tbody>\n",
       "</table>\n",
       "</div>"
      ],
      "text/plain": [
       "               amount\n",
       "crypto      56274.379\n",
       "stock/bond  69951.500"
      ]
     },
     "execution_count": 49,
     "metadata": {},
     "output_type": "execute_result"
    }
   ],
   "source": [
    "# Create a Pandas DataFrame called savings_df \n",
    "saving_df = pd.DataFrame(data=savings_data, columns=['amount'], index=['crypto', 'stock/bond'])\n",
    "\n",
    "# Display the savings_df DataFrame\n",
    "saving_df"
   ]
  },
  {
   "cell_type": "markdown",
   "metadata": {},
   "source": [
    "#### Step 3: Use the `savings_df` DataFrame to plot a pie chart that visualizes the composition of the member’s portfolio. The y-axis of the pie chart uses `amount`. Be sure to add a title."
   ]
  },
  {
   "cell_type": "code",
   "execution_count": 50,
   "metadata": {},
   "outputs": [
    {
     "data": {
      "text/plain": [
       "<AxesSubplot:title={'center':\"Member's Portfolio - Crypto & Stock/Bond\"}, ylabel='amount'>"
      ]
     },
     "execution_count": 50,
     "metadata": {},
     "output_type": "execute_result"
    },
    {
     "data": {
      "image/png": "[encoded data removed]",
      "text/plain": [
       "<Figure size 432x432 with 1 Axes>"
      ]
     },
     "metadata": {},
     "output_type": "display_data"
    }
   ],
   "source": [
    "# Plot the total value of the member's portfolio (crypto and stock/bond) in a pie chart\n",
    "# YOUR CODE HERE\n",
    "saving_df.plot.pie(y='amount', figsize=(6,6), title=\"Member's Portfolio - Crypto & Stock/Bond\")"
   ]
  },
  {
   "cell_type": "markdown",
   "metadata": {},
   "source": [
    "#### Step 4: Using Python, determine if the current portfolio has enough to create an emergency fund as part of the member’s financial plan. Ideally, an emergency fund should equal to three times the member’s monthly income. To do this, implement the following steps:\n",
    "\n",
    "Step 1. Create a variable named `emergency_fund_value`, and set it equal to three times the value of the member’s `monthly_income` of 12000. (You set this earlier in Part 1).\n",
    "\n",
    "Step 2. Create a series of three if statements to determine if the member’s total portfolio is large enough to fund the emergency portfolio:\n",
    "\n",
    "* If the total portfolio value is greater than the emergency fund value, display a message congratulating the member for having enough money in this fund.\n",
    "\n",
    "* Else if the total portfolio value is equal to the emergency fund value, display a message congratulating the member on reaching this important financial goal.\n",
    "\n",
    "* Else the total portfolio is less than the emergency fund value, so display a message showing how many dollars away the member is from reaching the goal. (Subtract the total portfolio value from the emergency fund value.)\n"
   ]
  },
  {
   "cell_type": "markdown",
   "metadata": {},
   "source": [
    "##### Step 4-1: Create a variable named `emergency_fund_value`, and set it equal to three times the value of the member’s `monthly_income` of 12000. (You set this earlier in Part 1)."
   ]
  },
  {
   "cell_type": "code",
   "execution_count": 51,
   "metadata": {},
   "outputs": [
    {
     "data": {
      "text/plain": [
       "36000"
      ]
     },
     "execution_count": 51,
     "metadata": {},
     "output_type": "execute_result"
    }
   ],
   "source": [
    "# Create a variable named emergency_fund_value\n",
    "# YOUR CODE HERE\n",
    "emergency_fund_value = 3 * monthly_income\n",
    "emergency_fund_value"
   ]
  },
  {
   "cell_type": "markdown",
   "metadata": {},
   "source": [
    "##### Step 4-2: Create a series of three if statements to determine if the member’s total portfolio is large enough to fund the emergency portfolio:\n",
    "\n",
    "* If the total portfolio value is greater than the emergency fund value, display a message congratulating the member for having enough money in this fund.\n",
    "\n",
    "* Else if the total portfolio value is equal to the emergency fund value, display a message congratulating the member on reaching this important financial goal.\n",
    "\n",
    "* Else the total portfolio is less than the emergency fund value, so display a message showing how many dollars away the member is from reaching the goal. (Subtract the total portfolio value from the emergency fund value.)"
   ]
  },
  {
   "cell_type": "code",
   "execution_count": 52,
   "metadata": {},
   "outputs": [
    {
     "name": "stdout",
     "output_type": "stream",
     "text": [
      "Congratulations! You have enough money in this emergency fund.\n"
     ]
    }
   ],
   "source": [
    "# Evaluate the possibility of creating an emergency fund with 3 conditions:\n",
    "# YOUR CODE HERE\n",
    "if total_portfolio > emergency_fund_value:\n",
    "    print(f\"Congratulations! You have enough money in this emergency fund.\")\n",
    "# YOUR CODE HERE\n",
    "elif total_portfolio == emergency_fund_value:\n",
    "    print(f\"Congratulations! You have reached your financial goal.\")\n",
    "# YOUR CODE HERE\n",
    "else:\n",
    "    print(f\"Sorry! You are ${emergency_fund_value - total_portfolio} short of reaching your financial goal.\")"
   ]
  },
  {
   "cell_type": "markdown",
   "metadata": {},
   "source": [
    "## Part 2: Create a Financial Planner for Retirement"
   ]
  },
  {
   "cell_type": "markdown",
   "metadata": {},
   "source": [
    "### Create the Monte Carlo Simulation\n",
    "\n",
    "In this section, you’ll use the MCForecastTools library to create a Monte Carlo simulation for the member’s savings portfolio. To do this, complete the following steps:\n",
    "\n",
    "1. Make an API call via the Alpaca SDK to get 3 years of historical closing prices for a traditional 60/40 portfolio split: 60% stocks (SPY) and 40% bonds (AGG).\n",
    "\n",
    "2. Run a Monte Carlo simulation of 500 samples and 30 years for the 60/40 portfolio, and then plot the results.The following image shows the overlay line plot resulting from a simulation with these characteristics. However, because a random number generator is used to run each live Monte Carlo simulation, your image will differ slightly from this exact image:\n",
    "\n",
    "![A screenshot depicts the resulting plot.](Images/5-4-monte-carlo-line-plot.png)\n",
    "\n",
    "3. Plot the probability distribution of the Monte Carlo simulation. Plot the probability distribution of the Monte Carlo simulation. The following image shows the histogram plot resulting from a simulation with these characteristics. However, because a random number generator is used to run each live Monte Carlo simulation, your image will differ slightly from this exact image:\n",
    "\n",
    "![A screenshot depicts the histogram plot.](Images/5-4-monte-carlo-histogram.png)\n",
    "\n",
    "4. Generate the summary statistics for the Monte Carlo simulation.\n",
    "\n"
   ]
  },
  {
   "cell_type": "markdown",
   "metadata": {},
   "source": [
    "#### Step 1: Make an API call via the Alpaca SDK to get 3 years of historical closing prices for a traditional 60/40 portfolio split: 60% stocks (SPY) and 40% bonds (AGG)."
   ]
  },
  {
   "cell_type": "code",
   "execution_count": 53,
   "metadata": {},
   "outputs": [],
   "source": [
    "# Set start and end dates of 3 years back from your current date\n",
    "# Alternatively, you can use an end date of 2020-08-07 and work 3 years back from that date \n",
    "# YOUR CODE HERE\n",
    "# YOUR CODE HERE\n",
    "start_date = pd.Timestamp(\"2019-01-26\", tz=\"America/New_York\").isoformat()\n",
    "end_date = pd.Timestamp(\"2022-01-26\", tz=\"America/New_York\").isoformat()\n",
    "\n",
    "# Set number of rows to 1000 to retrieve the maximum amount of rows\n",
    "limit_rows = 1000"
   ]
  },
  {
   "cell_type": "code",
   "execution_count": 54,
   "metadata": {},
   "outputs": [
    {
     "data": {
      "text/html": [
       "<div>\n",
       "<style scoped>\n",
       "    .dataframe tbody tr th:only-of-type {\n",
       "        vertical-align: middle;\n",
       "    }\n",
       "\n",
       "    .dataframe tbody tr th {\n",
       "        vertical-align: top;\n",
       "    }\n",
       "\n",
       "    .dataframe thead tr th {\n",
       "        text-align: left;\n",
       "    }\n",
       "\n",
       "    .dataframe thead tr:last-of-type th {\n",
       "        text-align: right;\n",
       "    }\n",
       "</style>\n",
       "<table border=\"1\" class=\"dataframe\">\n",
       "  <thead>\n",
       "    <tr>\n",
       "      <th></th>\n",
       "      <th colspan=\"5\" halign=\"left\">AGG</th>\n",
       "      <th colspan=\"5\" halign=\"left\">SPY</th>\n",
       "    </tr>\n",
       "    <tr>\n",
       "      <th></th>\n",
       "      <th>open</th>\n",
       "      <th>high</th>\n",
       "      <th>low</th>\n",
       "      <th>close</th>\n",
       "      <th>volume</th>\n",
       "      <th>open</th>\n",
       "      <th>high</th>\n",
       "      <th>low</th>\n",
       "      <th>close</th>\n",
       "      <th>volume</th>\n",
       "    </tr>\n",
       "    <tr>\n",
       "      <th>time</th>\n",
       "      <th></th>\n",
       "      <th></th>\n",
       "      <th></th>\n",
       "      <th></th>\n",
       "      <th></th>\n",
       "      <th></th>\n",
       "      <th></th>\n",
       "      <th></th>\n",
       "      <th></th>\n",
       "      <th></th>\n",
       "    </tr>\n",
       "  </thead>\n",
       "  <tbody>\n",
       "    <tr>\n",
       "      <th>2019-01-28 00:00:00-05:00</th>\n",
       "      <td>106.62</td>\n",
       "      <td>106.745</td>\n",
       "      <td>106.580</td>\n",
       "      <td>106.6550</td>\n",
       "      <td>6372589.0</td>\n",
       "      <td>263.39</td>\n",
       "      <td>263.82</td>\n",
       "      <td>261.79</td>\n",
       "      <td>263.6350</td>\n",
       "      <td>75207990</td>\n",
       "    </tr>\n",
       "    <tr>\n",
       "      <th>2019-01-29 00:00:00-05:00</th>\n",
       "      <td>106.73</td>\n",
       "      <td>106.910</td>\n",
       "      <td>106.685</td>\n",
       "      <td>106.9063</td>\n",
       "      <td>5399892.0</td>\n",
       "      <td>263.92</td>\n",
       "      <td>264.55</td>\n",
       "      <td>262.48</td>\n",
       "      <td>263.3100</td>\n",
       "      <td>54249161</td>\n",
       "    </tr>\n",
       "    <tr>\n",
       "      <th>2019-01-30 00:00:00-05:00</th>\n",
       "      <td>106.79</td>\n",
       "      <td>107.140</td>\n",
       "      <td>106.790</td>\n",
       "      <td>107.1400</td>\n",
       "      <td>4948983.0</td>\n",
       "      <td>265.10</td>\n",
       "      <td>268.52</td>\n",
       "      <td>264.25</td>\n",
       "      <td>267.4625</td>\n",
       "      <td>75091893</td>\n",
       "    </tr>\n",
       "    <tr>\n",
       "      <th>2019-01-31 00:00:00-05:00</th>\n",
       "      <td>107.30</td>\n",
       "      <td>107.530</td>\n",
       "      <td>107.290</td>\n",
       "      <td>107.4600</td>\n",
       "      <td>11394113.0</td>\n",
       "      <td>267.51</td>\n",
       "      <td>270.47</td>\n",
       "      <td>267.27</td>\n",
       "      <td>270.2325</td>\n",
       "      <td>73699733</td>\n",
       "    </tr>\n",
       "    <tr>\n",
       "      <th>2019-02-01 00:00:00-05:00</th>\n",
       "      <td>107.09</td>\n",
       "      <td>107.150</td>\n",
       "      <td>106.880</td>\n",
       "      <td>106.9600</td>\n",
       "      <td>5325410.0</td>\n",
       "      <td>270.15</td>\n",
       "      <td>271.20</td>\n",
       "      <td>269.18</td>\n",
       "      <td>270.0700</td>\n",
       "      <td>68194167</td>\n",
       "    </tr>\n",
       "  </tbody>\n",
       "</table>\n",
       "</div>"
      ],
      "text/plain": [
       "                              AGG                                          \\\n",
       "                             open     high      low     close      volume   \n",
       "time                                                                        \n",
       "2019-01-28 00:00:00-05:00  106.62  106.745  106.580  106.6550   6372589.0   \n",
       "2019-01-29 00:00:00-05:00  106.73  106.910  106.685  106.9063   5399892.0   \n",
       "2019-01-30 00:00:00-05:00  106.79  107.140  106.790  107.1400   4948983.0   \n",
       "2019-01-31 00:00:00-05:00  107.30  107.530  107.290  107.4600  11394113.0   \n",
       "2019-02-01 00:00:00-05:00  107.09  107.150  106.880  106.9600   5325410.0   \n",
       "\n",
       "                              SPY                                      \n",
       "                             open    high     low     close    volume  \n",
       "time                                                                   \n",
       "2019-01-28 00:00:00-05:00  263.39  263.82  261.79  263.6350  75207990  \n",
       "2019-01-29 00:00:00-05:00  263.92  264.55  262.48  263.3100  54249161  \n",
       "2019-01-30 00:00:00-05:00  265.10  268.52  264.25  267.4625  75091893  \n",
       "2019-01-31 00:00:00-05:00  267.51  270.47  267.27  270.2325  73699733  \n",
       "2019-02-01 00:00:00-05:00  270.15  271.20  269.18  270.0700  68194167  "
      ]
     },
     "metadata": {},
     "output_type": "display_data"
    },
    {
     "data": {
      "text/html": [
       "<div>\n",
       "<style scoped>\n",
       "    .dataframe tbody tr th:only-of-type {\n",
       "        vertical-align: middle;\n",
       "    }\n",
       "\n",
       "    .dataframe tbody tr th {\n",
       "        vertical-align: top;\n",
       "    }\n",
       "\n",
       "    .dataframe thead tr th {\n",
       "        text-align: left;\n",
       "    }\n",
       "\n",
       "    .dataframe thead tr:last-of-type th {\n",
       "        text-align: right;\n",
       "    }\n",
       "</style>\n",
       "<table border=\"1\" class=\"dataframe\">\n",
       "  <thead>\n",
       "    <tr>\n",
       "      <th></th>\n",
       "      <th colspan=\"5\" halign=\"left\">AGG</th>\n",
       "      <th colspan=\"5\" halign=\"left\">SPY</th>\n",
       "    </tr>\n",
       "    <tr>\n",
       "      <th></th>\n",
       "      <th>open</th>\n",
       "      <th>high</th>\n",
       "      <th>low</th>\n",
       "      <th>close</th>\n",
       "      <th>volume</th>\n",
       "      <th>open</th>\n",
       "      <th>high</th>\n",
       "      <th>low</th>\n",
       "      <th>close</th>\n",
       "      <th>volume</th>\n",
       "    </tr>\n",
       "    <tr>\n",
       "      <th>time</th>\n",
       "      <th></th>\n",
       "      <th></th>\n",
       "      <th></th>\n",
       "      <th></th>\n",
       "      <th></th>\n",
       "      <th></th>\n",
       "      <th></th>\n",
       "      <th></th>\n",
       "      <th></th>\n",
       "      <th></th>\n",
       "    </tr>\n",
       "  </thead>\n",
       "  <tbody>\n",
       "    <tr>\n",
       "      <th>2022-01-20 00:00:00-05:00</th>\n",
       "      <td>111.8400</td>\n",
       "      <td>111.90</td>\n",
       "      <td>111.75</td>\n",
       "      <td>111.79</td>\n",
       "      <td>6861797.0</td>\n",
       "      <td>453.75</td>\n",
       "      <td>458.74</td>\n",
       "      <td>444.50</td>\n",
       "      <td>446.79</td>\n",
       "      <td>105009751</td>\n",
       "    </tr>\n",
       "    <tr>\n",
       "      <th>2022-01-21 00:00:00-05:00</th>\n",
       "      <td>112.1900</td>\n",
       "      <td>112.35</td>\n",
       "      <td>112.11</td>\n",
       "      <td>112.24</td>\n",
       "      <td>7792653.0</td>\n",
       "      <td>445.56</td>\n",
       "      <td>448.06</td>\n",
       "      <td>437.97</td>\n",
       "      <td>438.11</td>\n",
       "      <td>174541929</td>\n",
       "    </tr>\n",
       "    <tr>\n",
       "      <th>2022-01-24 00:00:00-05:00</th>\n",
       "      <td>112.3814</td>\n",
       "      <td>112.42</td>\n",
       "      <td>112.10</td>\n",
       "      <td>112.12</td>\n",
       "      <td>10666672.0</td>\n",
       "      <td>432.03</td>\n",
       "      <td>440.38</td>\n",
       "      <td>420.76</td>\n",
       "      <td>439.88</td>\n",
       "      <td>233026938</td>\n",
       "    </tr>\n",
       "    <tr>\n",
       "      <th>2022-01-25 00:00:00-05:00</th>\n",
       "      <td>112.1800</td>\n",
       "      <td>112.30</td>\n",
       "      <td>111.96</td>\n",
       "      <td>112.00</td>\n",
       "      <td>9392367.0</td>\n",
       "      <td>433.06</td>\n",
       "      <td>439.72</td>\n",
       "      <td>364.68</td>\n",
       "      <td>434.51</td>\n",
       "      <td>148023735</td>\n",
       "    </tr>\n",
       "    <tr>\n",
       "      <th>2022-01-26 00:00:00-05:00</th>\n",
       "      <td>112.0600</td>\n",
       "      <td>112.13</td>\n",
       "      <td>111.36</td>\n",
       "      <td>111.36</td>\n",
       "      <td>10170465.0</td>\n",
       "      <td>440.72</td>\n",
       "      <td>444.04</td>\n",
       "      <td>428.86</td>\n",
       "      <td>433.45</td>\n",
       "      <td>174214548</td>\n",
       "    </tr>\n",
       "  </tbody>\n",
       "</table>\n",
       "</div>"
      ],
      "text/plain": [
       "                                AGG                                      \\\n",
       "                               open    high     low   close      volume   \n",
       "time                                                                      \n",
       "2022-01-20 00:00:00-05:00  111.8400  111.90  111.75  111.79   6861797.0   \n",
       "2022-01-21 00:00:00-05:00  112.1900  112.35  112.11  112.24   7792653.0   \n",
       "2022-01-24 00:00:00-05:00  112.3814  112.42  112.10  112.12  10666672.0   \n",
       "2022-01-25 00:00:00-05:00  112.1800  112.30  111.96  112.00   9392367.0   \n",
       "2022-01-26 00:00:00-05:00  112.0600  112.13  111.36  111.36  10170465.0   \n",
       "\n",
       "                              SPY                                     \n",
       "                             open    high     low   close     volume  \n",
       "time                                                                  \n",
       "2022-01-20 00:00:00-05:00  453.75  458.74  444.50  446.79  105009751  \n",
       "2022-01-21 00:00:00-05:00  445.56  448.06  437.97  438.11  174541929  \n",
       "2022-01-24 00:00:00-05:00  432.03  440.38  420.76  439.88  233026938  \n",
       "2022-01-25 00:00:00-05:00  433.06  439.72  364.68  434.51  148023735  \n",
       "2022-01-26 00:00:00-05:00  440.72  444.04  428.86  433.45  174214548  "
      ]
     },
     "metadata": {},
     "output_type": "display_data"
    }
   ],
   "source": [
    "# Use the Alpaca get_barset function to make the API call to get the 3 years worth of pricing data\n",
    "# The tickers and timeframe parameters should have been set in Part 1 of this activity \n",
    "# The start and end dates should be updated with the information set above\n",
    "# Remember to add the df property to the end of the call so the response is returned as a DataFrame\n",
    "# YOUR CODE HERE\n",
    "prices_df = alpaca.get_barset(\n",
    "  tickers,\n",
    "  timeframe,\n",
    "  start=start_date,\n",
    "  end=end_date,\n",
    "  limit=limit_rows\n",
    ").df\n",
    "\n",
    "\n",
    "\n",
    "# Display both the first and last five rows of the DataFrame\n",
    "# YOUR CODE HERE\n",
    "# YOUR CODE HERE\n",
    "display(prices_df.head())\n",
    "display(prices_df.tail())"
   ]
  },
  {
   "cell_type": "markdown",
   "metadata": {},
   "source": [
    "#### Step 2: Run a Monte Carlo simulation of 500 samples and 30 years for the 60/40 portfolio, and then plot the results."
   ]
  },
  {
   "cell_type": "code",
   "execution_count": 55,
   "metadata": {},
   "outputs": [
    {
     "data": {
      "text/html": [
       "<div>\n",
       "<style scoped>\n",
       "    .dataframe tbody tr th:only-of-type {\n",
       "        vertical-align: middle;\n",
       "    }\n",
       "\n",
       "    .dataframe tbody tr th {\n",
       "        vertical-align: top;\n",
       "    }\n",
       "\n",
       "    .dataframe thead tr th {\n",
       "        text-align: left;\n",
       "    }\n",
       "\n",
       "    .dataframe thead tr:last-of-type th {\n",
       "        text-align: right;\n",
       "    }\n",
       "</style>\n",
       "<table border=\"1\" class=\"dataframe\">\n",
       "  <thead>\n",
       "    <tr>\n",
       "      <th></th>\n",
       "      <th colspan=\"6\" halign=\"left\">AGG</th>\n",
       "      <th colspan=\"6\" halign=\"left\">SPY</th>\n",
       "    </tr>\n",
       "    <tr>\n",
       "      <th></th>\n",
       "      <th>open</th>\n",
       "      <th>high</th>\n",
       "      <th>low</th>\n",
       "      <th>close</th>\n",
       "      <th>volume</th>\n",
       "      <th>daily_return</th>\n",
       "      <th>open</th>\n",
       "      <th>high</th>\n",
       "      <th>low</th>\n",
       "      <th>close</th>\n",
       "      <th>volume</th>\n",
       "      <th>daily_return</th>\n",
       "    </tr>\n",
       "    <tr>\n",
       "      <th>time</th>\n",
       "      <th></th>\n",
       "      <th></th>\n",
       "      <th></th>\n",
       "      <th></th>\n",
       "      <th></th>\n",
       "      <th></th>\n",
       "      <th></th>\n",
       "      <th></th>\n",
       "      <th></th>\n",
       "      <th></th>\n",
       "      <th></th>\n",
       "      <th></th>\n",
       "    </tr>\n",
       "  </thead>\n",
       "  <tbody>\n",
       "    <tr>\n",
       "      <th>2019-01-28 00:00:00-05:00</th>\n",
       "      <td>106.62</td>\n",
       "      <td>106.745</td>\n",
       "      <td>106.580</td>\n",
       "      <td>106.6550</td>\n",
       "      <td>6372589.0</td>\n",
       "      <td>NaN</td>\n",
       "      <td>263.39</td>\n",
       "      <td>263.82</td>\n",
       "      <td>261.79</td>\n",
       "      <td>263.6350</td>\n",
       "      <td>75207990</td>\n",
       "      <td>NaN</td>\n",
       "    </tr>\n",
       "    <tr>\n",
       "      <th>2019-01-29 00:00:00-05:00</th>\n",
       "      <td>106.73</td>\n",
       "      <td>106.910</td>\n",
       "      <td>106.685</td>\n",
       "      <td>106.9063</td>\n",
       "      <td>5399892.0</td>\n",
       "      <td>0.002356</td>\n",
       "      <td>263.92</td>\n",
       "      <td>264.55</td>\n",
       "      <td>262.48</td>\n",
       "      <td>263.3100</td>\n",
       "      <td>54249161</td>\n",
       "      <td>-0.001233</td>\n",
       "    </tr>\n",
       "    <tr>\n",
       "      <th>2019-01-30 00:00:00-05:00</th>\n",
       "      <td>106.79</td>\n",
       "      <td>107.140</td>\n",
       "      <td>106.790</td>\n",
       "      <td>107.1400</td>\n",
       "      <td>4948983.0</td>\n",
       "      <td>0.002186</td>\n",
       "      <td>265.10</td>\n",
       "      <td>268.52</td>\n",
       "      <td>264.25</td>\n",
       "      <td>267.4625</td>\n",
       "      <td>75091893</td>\n",
       "      <td>0.015770</td>\n",
       "    </tr>\n",
       "    <tr>\n",
       "      <th>2019-01-31 00:00:00-05:00</th>\n",
       "      <td>107.30</td>\n",
       "      <td>107.530</td>\n",
       "      <td>107.290</td>\n",
       "      <td>107.4600</td>\n",
       "      <td>11394113.0</td>\n",
       "      <td>0.002987</td>\n",
       "      <td>267.51</td>\n",
       "      <td>270.47</td>\n",
       "      <td>267.27</td>\n",
       "      <td>270.2325</td>\n",
       "      <td>73699733</td>\n",
       "      <td>0.010357</td>\n",
       "    </tr>\n",
       "    <tr>\n",
       "      <th>2019-02-01 00:00:00-05:00</th>\n",
       "      <td>107.09</td>\n",
       "      <td>107.150</td>\n",
       "      <td>106.880</td>\n",
       "      <td>106.9600</td>\n",
       "      <td>5325410.0</td>\n",
       "      <td>-0.004653</td>\n",
       "      <td>270.15</td>\n",
       "      <td>271.20</td>\n",
       "      <td>269.18</td>\n",
       "      <td>270.0700</td>\n",
       "      <td>68194167</td>\n",
       "      <td>-0.000601</td>\n",
       "    </tr>\n",
       "  </tbody>\n",
       "</table>\n",
       "</div>"
      ],
      "text/plain": [
       "                              AGG                                          \\\n",
       "                             open     high      low     close      volume   \n",
       "time                                                                        \n",
       "2019-01-28 00:00:00-05:00  106.62  106.745  106.580  106.6550   6372589.0   \n",
       "2019-01-29 00:00:00-05:00  106.73  106.910  106.685  106.9063   5399892.0   \n",
       "2019-01-30 00:00:00-05:00  106.79  107.140  106.790  107.1400   4948983.0   \n",
       "2019-01-31 00:00:00-05:00  107.30  107.530  107.290  107.4600  11394113.0   \n",
       "2019-02-01 00:00:00-05:00  107.09  107.150  106.880  106.9600   5325410.0   \n",
       "\n",
       "                                           SPY                            \\\n",
       "                          daily_return    open    high     low     close   \n",
       "time                                                                       \n",
       "2019-01-28 00:00:00-05:00          NaN  263.39  263.82  261.79  263.6350   \n",
       "2019-01-29 00:00:00-05:00     0.002356  263.92  264.55  262.48  263.3100   \n",
       "2019-01-30 00:00:00-05:00     0.002186  265.10  268.52  264.25  267.4625   \n",
       "2019-01-31 00:00:00-05:00     0.002987  267.51  270.47  267.27  270.2325   \n",
       "2019-02-01 00:00:00-05:00    -0.004653  270.15  271.20  269.18  270.0700   \n",
       "\n",
       "                                                  \n",
       "                             volume daily_return  \n",
       "time                                              \n",
       "2019-01-28 00:00:00-05:00  75207990          NaN  \n",
       "2019-01-29 00:00:00-05:00  54249161    -0.001233  \n",
       "2019-01-30 00:00:00-05:00  75091893     0.015770  \n",
       "2019-01-31 00:00:00-05:00  73699733     0.010357  \n",
       "2019-02-01 00:00:00-05:00  68194167    -0.000601  "
      ]
     },
     "execution_count": 55,
     "metadata": {},
     "output_type": "execute_result"
    }
   ],
   "source": [
    "# Configure the Monte Carlo simulation to forecast 30 years cumulative returns\n",
    "# The weights should be split 40% to AGG and 60% to SPY.\n",
    "# Run 500 samples.\n",
    "# YOUR CODE HERE\n",
    "MC_retire = MCSimulation(\n",
    "  portfolio_data = prices_df,\n",
    "  weights = [0.6,0.4],\n",
    "  num_simulation = 500,\n",
    "  num_trading_days = 252*30\n",
    ")\n",
    "\n",
    "# Review the simulation input data\n",
    "# YOUR CODE HERE\n",
    "MC_retire.portfolio_data.head()"
   ]
  },
  {
   "cell_type": "code",
   "execution_count": 56,
   "metadata": {},
   "outputs": [
    {
     "name": "stdout",
     "output_type": "stream",
     "text": [
      "Running Monte Carlo simulation number 0.\n",
      "Running Monte Carlo simulation number 10.\n",
      "Running Monte Carlo simulation number 20.\n",
      "Running Monte Carlo simulation number 30.\n",
      "Running Monte Carlo simulation number 40.\n",
      "Running Monte Carlo simulation number 50.\n",
      "Running Monte Carlo simulation number 60.\n",
      "Running Monte Carlo simulation number 70.\n",
      "Running Monte Carlo simulation number 80.\n",
      "Running Monte Carlo simulation number 90.\n",
      "Running Monte Carlo simulation number 100.\n"
     ]
    },
    {
     "name": "stderr",
     "output_type": "stream",
     "text": [
      "C:\\Users\\parag\\desktop\\FinTech-Workspace\\Python_Project\\Challenges\\Module5Challenge\\MCForecastTools.py:117: PerformanceWarning: DataFrame is highly fragmented.  This is usually the result of calling `frame.insert` many times, which has poor performance.  Consider joining all columns at once using pd.concat(axis=1) instead.  To get a de-fragmented frame, use `newframe = frame.copy()`\n",
      "  portfolio_cumulative_returns[n] = (1 + sim_df.fillna(0)).cumprod()\n"
     ]
    },
    {
     "name": "stdout",
     "output_type": "stream",
     "text": [
      "Running Monte Carlo simulation number 110.\n",
      "Running Monte Carlo simulation number 120.\n",
      "Running Monte Carlo simulation number 130.\n",
      "Running Monte Carlo simulation number 140.\n",
      "Running Monte Carlo simulation number 150.\n",
      "Running Monte Carlo simulation number 160.\n",
      "Running Monte Carlo simulation number 170.\n",
      "Running Monte Carlo simulation number 180.\n",
      "Running Monte Carlo simulation number 190.\n",
      "Running Monte Carlo simulation number 200.\n",
      "Running Monte Carlo simulation number 210.\n",
      "Running Monte Carlo simulation number 220.\n",
      "Running Monte Carlo simulation number 230.\n",
      "Running Monte Carlo simulation number 240.\n",
      "Running Monte Carlo simulation number 250.\n",
      "Running Monte Carlo simulation number 260.\n",
      "Running Monte Carlo simulation number 270.\n",
      "Running Monte Carlo simulation number 280.\n",
      "Running Monte Carlo simulation number 290.\n",
      "Running Monte Carlo simulation number 300.\n",
      "Running Monte Carlo simulation number 310.\n",
      "Running Monte Carlo simulation number 320.\n",
      "Running Monte Carlo simulation number 330.\n",
      "Running Monte Carlo simulation number 340.\n",
      "Running Monte Carlo simulation number 350.\n",
      "Running Monte Carlo simulation number 360.\n",
      "Running Monte Carlo simulation number 370.\n",
      "Running Monte Carlo simulation number 380.\n",
      "Running Monte Carlo simulation number 390.\n",
      "Running Monte Carlo simulation number 400.\n",
      "Running Monte Carlo simulation number 410.\n",
      "Running Monte Carlo simulation number 420.\n",
      "Running Monte Carlo simulation number 430.\n",
      "Running Monte Carlo simulation number 440.\n",
      "Running Monte Carlo simulation number 450.\n",
      "Running Monte Carlo simulation number 460.\n",
      "Running Monte Carlo simulation number 470.\n",
      "Running Monte Carlo simulation number 480.\n",
      "Running Monte Carlo simulation number 490.\n"
     ]
    },
    {
     "data": {
      "text/html": [
       "<div>\n",
       "<style scoped>\n",
       "    .dataframe tbody tr th:only-of-type {\n",
       "        vertical-align: middle;\n",
       "    }\n",
       "\n",
       "    .dataframe tbody tr th {\n",
       "        vertical-align: top;\n",
       "    }\n",
       "\n",
       "    .dataframe thead th {\n",
       "        text-align: right;\n",
       "    }\n",
       "</style>\n",
       "<table border=\"1\" class=\"dataframe\">\n",
       "  <thead>\n",
       "    <tr style=\"text-align: right;\">\n",
       "      <th></th>\n",
       "      <th>0</th>\n",
       "      <th>1</th>\n",
       "      <th>2</th>\n",
       "      <th>3</th>\n",
       "      <th>4</th>\n",
       "      <th>5</th>\n",
       "      <th>6</th>\n",
       "      <th>7</th>\n",
       "      <th>8</th>\n",
       "      <th>9</th>\n",
       "      <th>...</th>\n",
       "      <th>490</th>\n",
       "      <th>491</th>\n",
       "      <th>492</th>\n",
       "      <th>493</th>\n",
       "      <th>494</th>\n",
       "      <th>495</th>\n",
       "      <th>496</th>\n",
       "      <th>497</th>\n",
       "      <th>498</th>\n",
       "      <th>499</th>\n",
       "    </tr>\n",
       "  </thead>\n",
       "  <tbody>\n",
       "    <tr>\n",
       "      <th>0</th>\n",
       "      <td>1.000000</td>\n",
       "      <td>1.000000</td>\n",
       "      <td>1.000000</td>\n",
       "      <td>1.000000</td>\n",
       "      <td>1.000000</td>\n",
       "      <td>1.000000</td>\n",
       "      <td>1.000000</td>\n",
       "      <td>1.000000</td>\n",
       "      <td>1.000000</td>\n",
       "      <td>1.000000</td>\n",
       "      <td>...</td>\n",
       "      <td>1.000000</td>\n",
       "      <td>1.000000</td>\n",
       "      <td>1.000000</td>\n",
       "      <td>1.000000</td>\n",
       "      <td>1.000000</td>\n",
       "      <td>1.000000</td>\n",
       "      <td>1.000000</td>\n",
       "      <td>1.000000</td>\n",
       "      <td>1.000000</td>\n",
       "      <td>1.000000</td>\n",
       "    </tr>\n",
       "    <tr>\n",
       "      <th>1</th>\n",
       "      <td>0.987937</td>\n",
       "      <td>1.000154</td>\n",
       "      <td>1.000343</td>\n",
       "      <td>0.995621</td>\n",
       "      <td>1.001796</td>\n",
       "      <td>1.003079</td>\n",
       "      <td>0.993726</td>\n",
       "      <td>0.990175</td>\n",
       "      <td>1.003290</td>\n",
       "      <td>1.002894</td>\n",
       "      <td>...</td>\n",
       "      <td>0.999319</td>\n",
       "      <td>0.997644</td>\n",
       "      <td>1.000174</td>\n",
       "      <td>1.001495</td>\n",
       "      <td>0.990841</td>\n",
       "      <td>1.008317</td>\n",
       "      <td>1.000587</td>\n",
       "      <td>1.006972</td>\n",
       "      <td>1.003125</td>\n",
       "      <td>0.999376</td>\n",
       "    </tr>\n",
       "    <tr>\n",
       "      <th>2</th>\n",
       "      <td>0.986390</td>\n",
       "      <td>1.002289</td>\n",
       "      <td>1.007975</td>\n",
       "      <td>1.007642</td>\n",
       "      <td>1.006243</td>\n",
       "      <td>1.001688</td>\n",
       "      <td>0.989005</td>\n",
       "      <td>1.000169</td>\n",
       "      <td>1.011249</td>\n",
       "      <td>1.007829</td>\n",
       "      <td>...</td>\n",
       "      <td>0.998545</td>\n",
       "      <td>0.994584</td>\n",
       "      <td>0.990644</td>\n",
       "      <td>1.008909</td>\n",
       "      <td>0.982365</td>\n",
       "      <td>1.003351</td>\n",
       "      <td>1.003014</td>\n",
       "      <td>1.013025</td>\n",
       "      <td>1.009443</td>\n",
       "      <td>1.004004</td>\n",
       "    </tr>\n",
       "    <tr>\n",
       "      <th>3</th>\n",
       "      <td>0.981854</td>\n",
       "      <td>0.996399</td>\n",
       "      <td>0.992396</td>\n",
       "      <td>1.000842</td>\n",
       "      <td>1.000348</td>\n",
       "      <td>0.991097</td>\n",
       "      <td>0.994987</td>\n",
       "      <td>0.993873</td>\n",
       "      <td>1.008604</td>\n",
       "      <td>1.000498</td>\n",
       "      <td>...</td>\n",
       "      <td>0.999392</td>\n",
       "      <td>0.992730</td>\n",
       "      <td>0.985856</td>\n",
       "      <td>1.004415</td>\n",
       "      <td>0.985026</td>\n",
       "      <td>1.001852</td>\n",
       "      <td>1.010701</td>\n",
       "      <td>1.019564</td>\n",
       "      <td>1.012114</td>\n",
       "      <td>1.000273</td>\n",
       "    </tr>\n",
       "    <tr>\n",
       "      <th>4</th>\n",
       "      <td>0.987591</td>\n",
       "      <td>0.995018</td>\n",
       "      <td>0.992782</td>\n",
       "      <td>1.008906</td>\n",
       "      <td>0.996576</td>\n",
       "      <td>0.983952</td>\n",
       "      <td>0.997333</td>\n",
       "      <td>1.001879</td>\n",
       "      <td>1.003590</td>\n",
       "      <td>1.006007</td>\n",
       "      <td>...</td>\n",
       "      <td>0.996689</td>\n",
       "      <td>0.988112</td>\n",
       "      <td>0.994911</td>\n",
       "      <td>1.000446</td>\n",
       "      <td>0.981584</td>\n",
       "      <td>1.007748</td>\n",
       "      <td>1.006382</td>\n",
       "      <td>1.010496</td>\n",
       "      <td>1.016501</td>\n",
       "      <td>1.004334</td>\n",
       "    </tr>\n",
       "    <tr>\n",
       "      <th>...</th>\n",
       "      <td>...</td>\n",
       "      <td>...</td>\n",
       "      <td>...</td>\n",
       "      <td>...</td>\n",
       "      <td>...</td>\n",
       "      <td>...</td>\n",
       "      <td>...</td>\n",
       "      <td>...</td>\n",
       "      <td>...</td>\n",
       "      <td>...</td>\n",
       "      <td>...</td>\n",
       "      <td>...</td>\n",
       "      <td>...</td>\n",
       "      <td>...</td>\n",
       "      <td>...</td>\n",
       "      <td>...</td>\n",
       "      <td>...</td>\n",
       "      <td>...</td>\n",
       "      <td>...</td>\n",
       "      <td>...</td>\n",
       "      <td>...</td>\n",
       "    </tr>\n",
       "    <tr>\n",
       "      <th>7556</th>\n",
       "      <td>10.822784</td>\n",
       "      <td>8.891084</td>\n",
       "      <td>8.354842</td>\n",
       "      <td>8.524855</td>\n",
       "      <td>7.581571</td>\n",
       "      <td>20.933404</td>\n",
       "      <td>26.863148</td>\n",
       "      <td>8.828797</td>\n",
       "      <td>14.505664</td>\n",
       "      <td>10.333932</td>\n",
       "      <td>...</td>\n",
       "      <td>17.797348</td>\n",
       "      <td>8.550032</td>\n",
       "      <td>12.236243</td>\n",
       "      <td>11.799053</td>\n",
       "      <td>5.191712</td>\n",
       "      <td>14.295963</td>\n",
       "      <td>19.858956</td>\n",
       "      <td>12.029749</td>\n",
       "      <td>8.735214</td>\n",
       "      <td>10.062283</td>\n",
       "    </tr>\n",
       "    <tr>\n",
       "      <th>7557</th>\n",
       "      <td>10.740551</td>\n",
       "      <td>8.842736</td>\n",
       "      <td>8.390227</td>\n",
       "      <td>8.488694</td>\n",
       "      <td>7.665087</td>\n",
       "      <td>20.966015</td>\n",
       "      <td>27.216516</td>\n",
       "      <td>8.777289</td>\n",
       "      <td>14.412048</td>\n",
       "      <td>10.325893</td>\n",
       "      <td>...</td>\n",
       "      <td>17.767122</td>\n",
       "      <td>8.548436</td>\n",
       "      <td>12.206109</td>\n",
       "      <td>11.908884</td>\n",
       "      <td>5.172973</td>\n",
       "      <td>14.309617</td>\n",
       "      <td>20.000718</td>\n",
       "      <td>11.978151</td>\n",
       "      <td>8.856251</td>\n",
       "      <td>10.085470</td>\n",
       "    </tr>\n",
       "    <tr>\n",
       "      <th>7558</th>\n",
       "      <td>10.667695</td>\n",
       "      <td>8.904546</td>\n",
       "      <td>8.475127</td>\n",
       "      <td>8.537321</td>\n",
       "      <td>7.638941</td>\n",
       "      <td>21.211448</td>\n",
       "      <td>27.189465</td>\n",
       "      <td>8.791066</td>\n",
       "      <td>14.495841</td>\n",
       "      <td>10.348154</td>\n",
       "      <td>...</td>\n",
       "      <td>17.794245</td>\n",
       "      <td>8.540739</td>\n",
       "      <td>12.245990</td>\n",
       "      <td>12.042633</td>\n",
       "      <td>5.161997</td>\n",
       "      <td>14.263941</td>\n",
       "      <td>19.970492</td>\n",
       "      <td>11.974871</td>\n",
       "      <td>8.739816</td>\n",
       "      <td>10.062647</td>\n",
       "    </tr>\n",
       "    <tr>\n",
       "      <th>7559</th>\n",
       "      <td>10.616092</td>\n",
       "      <td>8.884527</td>\n",
       "      <td>8.425516</td>\n",
       "      <td>8.619947</td>\n",
       "      <td>7.675485</td>\n",
       "      <td>21.236666</td>\n",
       "      <td>27.123253</td>\n",
       "      <td>8.828057</td>\n",
       "      <td>14.420977</td>\n",
       "      <td>10.419270</td>\n",
       "      <td>...</td>\n",
       "      <td>17.656037</td>\n",
       "      <td>8.606789</td>\n",
       "      <td>12.200610</td>\n",
       "      <td>12.064874</td>\n",
       "      <td>5.161095</td>\n",
       "      <td>14.288790</td>\n",
       "      <td>19.870149</td>\n",
       "      <td>11.942462</td>\n",
       "      <td>8.717227</td>\n",
       "      <td>10.151114</td>\n",
       "    </tr>\n",
       "    <tr>\n",
       "      <th>7560</th>\n",
       "      <td>10.560536</td>\n",
       "      <td>8.938744</td>\n",
       "      <td>8.405768</td>\n",
       "      <td>8.603170</td>\n",
       "      <td>7.667805</td>\n",
       "      <td>21.107094</td>\n",
       "      <td>27.257188</td>\n",
       "      <td>8.847035</td>\n",
       "      <td>14.464841</td>\n",
       "      <td>10.432423</td>\n",
       "      <td>...</td>\n",
       "      <td>17.673675</td>\n",
       "      <td>8.607569</td>\n",
       "      <td>12.148272</td>\n",
       "      <td>12.199545</td>\n",
       "      <td>5.142656</td>\n",
       "      <td>14.273762</td>\n",
       "      <td>19.730007</td>\n",
       "      <td>11.913701</td>\n",
       "      <td>8.708989</td>\n",
       "      <td>10.147134</td>\n",
       "    </tr>\n",
       "  </tbody>\n",
       "</table>\n",
       "<p>7561 rows × 500 columns</p>\n",
       "</div>"
      ],
      "text/plain": [
       "            0         1         2         3         4          5          6    \\\n",
       "0      1.000000  1.000000  1.000000  1.000000  1.000000   1.000000   1.000000   \n",
       "1      0.987937  1.000154  1.000343  0.995621  1.001796   1.003079   0.993726   \n",
       "2      0.986390  1.002289  1.007975  1.007642  1.006243   1.001688   0.989005   \n",
       "3      0.981854  0.996399  0.992396  1.000842  1.000348   0.991097   0.994987   \n",
       "4      0.987591  0.995018  0.992782  1.008906  0.996576   0.983952   0.997333   \n",
       "...         ...       ...       ...       ...       ...        ...        ...   \n",
       "7556  10.822784  8.891084  8.354842  8.524855  7.581571  20.933404  26.863148   \n",
       "7557  10.740551  8.842736  8.390227  8.488694  7.665087  20.966015  27.216516   \n",
       "7558  10.667695  8.904546  8.475127  8.537321  7.638941  21.211448  27.189465   \n",
       "7559  10.616092  8.884527  8.425516  8.619947  7.675485  21.236666  27.123253   \n",
       "7560  10.560536  8.938744  8.405768  8.603170  7.667805  21.107094  27.257188   \n",
       "\n",
       "           7          8          9    ...        490       491        492  \\\n",
       "0     1.000000   1.000000   1.000000  ...   1.000000  1.000000   1.000000   \n",
       "1     0.990175   1.003290   1.002894  ...   0.999319  0.997644   1.000174   \n",
       "2     1.000169   1.011249   1.007829  ...   0.998545  0.994584   0.990644   \n",
       "3     0.993873   1.008604   1.000498  ...   0.999392  0.992730   0.985856   \n",
       "4     1.001879   1.003590   1.006007  ...   0.996689  0.988112   0.994911   \n",
       "...        ...        ...        ...  ...        ...       ...        ...   \n",
       "7556  8.828797  14.505664  10.333932  ...  17.797348  8.550032  12.236243   \n",
       "7557  8.777289  14.412048  10.325893  ...  17.767122  8.548436  12.206109   \n",
       "7558  8.791066  14.495841  10.348154  ...  17.794245  8.540739  12.245990   \n",
       "7559  8.828057  14.420977  10.419270  ...  17.656037  8.606789  12.200610   \n",
       "7560  8.847035  14.464841  10.432423  ...  17.673675  8.607569  12.148272   \n",
       "\n",
       "            493       494        495        496        497       498  \\\n",
       "0      1.000000  1.000000   1.000000   1.000000   1.000000  1.000000   \n",
       "1      1.001495  0.990841   1.008317   1.000587   1.006972  1.003125   \n",
       "2      1.008909  0.982365   1.003351   1.003014   1.013025  1.009443   \n",
       "3      1.004415  0.985026   1.001852   1.010701   1.019564  1.012114   \n",
       "4      1.000446  0.981584   1.007748   1.006382   1.010496  1.016501   \n",
       "...         ...       ...        ...        ...        ...       ...   \n",
       "7556  11.799053  5.191712  14.295963  19.858956  12.029749  8.735214   \n",
       "7557  11.908884  5.172973  14.309617  20.000718  11.978151  8.856251   \n",
       "7558  12.042633  5.161997  14.263941  19.970492  11.974871  8.739816   \n",
       "7559  12.064874  5.161095  14.288790  19.870149  11.942462  8.717227   \n",
       "7560  12.199545  5.142656  14.273762  19.730007  11.913701  8.708989   \n",
       "\n",
       "            499  \n",
       "0      1.000000  \n",
       "1      0.999376  \n",
       "2      1.004004  \n",
       "3      1.000273  \n",
       "4      1.004334  \n",
       "...         ...  \n",
       "7556  10.062283  \n",
       "7557  10.085470  \n",
       "7558  10.062647  \n",
       "7559  10.151114  \n",
       "7560  10.147134  \n",
       "\n",
       "[7561 rows x 500 columns]"
      ]
     },
     "execution_count": 56,
     "metadata": {},
     "output_type": "execute_result"
    }
   ],
   "source": [
    "# Run the Monte Carlo simulation to forecast 30 years cumulative returns\n",
    "# YOUR CODE HERE\n",
    "MC_retire.calc_cumulative_return()"
   ]
  },
  {
   "cell_type": "code",
   "execution_count": 57,
   "metadata": {},
   "outputs": [
    {
     "data": {
      "image/png": "[encoded data removed]",
      "text/plain": [
       "<Figure size 432x288 with 1 Axes>"
      ]
     },
     "metadata": {
      "needs_background": "light"
     },
     "output_type": "display_data"
    }
   ],
   "source": [
    "# Visualize the 30-year Monte Carlo simulation by creating an\n",
    "# overlay line plot\n",
    "# YOUR CODE HERE\n",
    "retire_line_plot = MC_retire.plot_simulation()"
   ]
  },
  {
   "cell_type": "markdown",
   "metadata": {},
   "source": [
    "#### Step 3: Plot the probability distribution of the Monte Carlo simulation."
   ]
  },
  {
   "cell_type": "code",
   "execution_count": 58,
   "metadata": {},
   "outputs": [
    {
     "data": {
      "image/png": "[encoded data removed]",
      "text/plain": [
       "<Figure size 432x288 with 1 Axes>"
      ]
     },
     "metadata": {
      "needs_background": "light"
     },
     "output_type": "display_data"
    }
   ],
   "source": [
    "# Visualize the probability distribution of the 30-year Monte Carlo simulation \n",
    "# by plotting a histogram\n",
    "# YOUR CODE HERE\n",
    "retire_distribution_plot = MC_retire.plot_distribution()"
   ]
  },
  {
   "cell_type": "markdown",
   "metadata": {},
   "source": [
    "#### Step 4: Generate the summary statistics for the Monte Carlo simulation."
   ]
  },
  {
   "cell_type": "code",
   "execution_count": 59,
   "metadata": {},
   "outputs": [
    {
     "name": "stdout",
     "output_type": "stream",
     "text": [
      "count           500.000000\n",
      "mean             12.491250\n",
      "std               6.827722\n",
      "min               3.110602\n",
      "25%               7.640646\n",
      "50%              10.936660\n",
      "75%              15.635315\n",
      "max              50.395259\n",
      "95% CI Lower      4.033509\n",
      "95% CI Upper     29.398116\n",
      "Name: 7560, dtype: float64\n"
     ]
    }
   ],
   "source": [
    "# Generate summary statistics from the 30-year Monte Carlo simulation results\n",
    "# Save the results as a variable\n",
    "retire_table = MC_retire.summarize_cumulative_return()\n",
    "\n",
    "\n",
    "# Review the 30-year Monte Carlo summary statistics\n",
    "# YOUR CODE HERE\n",
    "print(retire_table)"
   ]
  },
  {
   "cell_type": "markdown",
   "metadata": {},
   "source": [
    "### Analyze the Retirement Portfolio Forecasts\n",
    "\n",
    "Using the current value of only the stock and bond portion of the member's portfolio and the summary statistics that you generated from the Monte Carlo simulation, answer the following question in your Jupyter notebook:\n",
    "\n",
    "-  What are the lower and upper bounds for the expected value of the portfolio with a 95% confidence interval?\n"
   ]
  },
  {
   "cell_type": "code",
   "execution_count": 60,
   "metadata": {},
   "outputs": [
    {
     "name": "stdout",
     "output_type": "stream",
     "text": [
      "4.03350946264897\n",
      "29.398115605203824\n"
     ]
    }
   ],
   "source": [
    "# Print the current balance of the stock and bond portion of the members portfolio\n",
    "# YOUR CODE HERE\n",
    "retire_ci_lower = retire_table[8] \n",
    "retire_ci_upper = retire_table[9] \n",
    "\n",
    "print(retire_ci_lower)\n",
    "print(retire_ci_upper)"
   ]
  },
  {
   "cell_type": "code",
   "execution_count": 63,
   "metadata": {},
   "outputs": [
    {
     "name": "stdout",
     "output_type": "stream",
     "text": [
      "69951.5\n",
      "282150.0371764894\n",
      "2056442.2837574154\n"
     ]
    }
   ],
   "source": [
    "# Use the lower and upper `95%` confidence intervals to calculate the range of the possible outcomes for the current stock/bond portfolio\n",
    "ci_lower_thirty_cumulative_return = retire_ci_lower * (agg_value + spy_value)\n",
    "ci_upper_thirty_cumulative_return = retire_ci_upper * (agg_value + spy_value)\n",
    "\n",
    "# Print the result of your calculations\n",
    "# YOUR CODE HERE\n",
    "print(agg_value + spy_value)\n",
    "print(ci_lower_thirty_cumulative_return)\n",
    "print(ci_upper_thirty_cumulative_return)"
   ]
  },
  {
   "cell_type": "markdown",
   "metadata": {},
   "source": [
    "### Forecast Cumulative Returns in 10 Years\n",
    "\n",
    "The CTO of the credit union is impressed with your work on these planning tools but wonders if 30 years is a long time to wait until retirement. So, your next task is to adjust the retirement portfolio and run a new Monte Carlo simulation to find out if the changes will allow members to retire earlier.\n",
    "\n",
    "For this new Monte Carlo simulation, do the following: \n",
    "\n",
    "- Forecast the cumulative returns for 10 years from now. Because of the shortened investment horizon (30 years to 10 years), the portfolio needs to invest more heavily in the riskier asset&mdash;that is, stock&mdash;to help accumulate wealth for retirement. \n",
    "\n",
    "- Adjust the weights of the retirement portfolio so that the composition for the Monte Carlo simulation consists of 20% bonds and 80% stocks. \n",
    "\n",
    "- Run the simulation over 500 samples, and use the same data that the API call to Alpaca generated.\n",
    "\n",
    "- Based on the new Monte Carlo simulation, answer the following questions in your Jupyter notebook:\n",
    "\n",
    "    - Using the current value of only the stock and bond portion of the member's portfolio and the summary statistics that you generated from the new Monte Carlo simulation, what are the lower and upper bounds for the expected value of the portfolio (with the new weights) with a 95% confidence interval?\n",
    "\n",
    "    - Will weighting the portfolio more heavily toward stocks allow the credit union members to retire after only 10 years?\n"
   ]
  },
  {
   "cell_type": "code",
   "execution_count": null,
   "metadata": {},
   "outputs": [],
   "source": [
    "# Configure a Monte Carlo simulation to forecast 10 years cumulative returns\n",
    "# The weights should be split 20% to AGG and 80% to SPY.\n",
    "# Run 500 samples.\n",
    "# YOUR CODE HERE\n",
    "\n",
    "# Review the simulation input data\n",
    "# YOUR CODE HERE\n"
   ]
  },
  {
   "cell_type": "code",
   "execution_count": null,
   "metadata": {},
   "outputs": [],
   "source": [
    "# Run the Monte Carlo simulation to forecast 10 years cumulative returns\n",
    "# YOUR CODE HERE\n"
   ]
  },
  {
   "cell_type": "code",
   "execution_count": null,
   "metadata": {},
   "outputs": [],
   "source": [
    "# Visualize the 10-year Monte Carlo simulation by creating an\n",
    "# overlay line plot\n",
    "# YOUR CODE HERE\n"
   ]
  },
  {
   "cell_type": "code",
   "execution_count": null,
   "metadata": {},
   "outputs": [],
   "source": [
    "# Visualize the probability distribution of the 10-year Monte Carlo simulation \n",
    "# by plotting a histogram\n",
    "# YOUR CODE HERE\n"
   ]
  },
  {
   "cell_type": "code",
   "execution_count": null,
   "metadata": {},
   "outputs": [],
   "source": [
    "# Generate summary statistics from the 10-year Monte Carlo simulation results\n",
    "# Save the results as a variable\n",
    "# YOUR CODE HERE\n",
    "\n",
    "\n",
    "# Review the 10-year Monte Carlo summary statistics\n",
    "# YOUR CODE HERE"
   ]
  },
  {
   "cell_type": "markdown",
   "metadata": {},
   "source": [
    "### Answer the following questions:"
   ]
  },
  {
   "cell_type": "markdown",
   "metadata": {},
   "source": [
    "#### Question: Using the current value of only the stock and bond portion of the member's portfolio and the summary statistics that you generated from the new Monte Carlo simulation, what are the lower and upper bounds for the expected value of the portfolio (with the new weights) with a 95% confidence interval?"
   ]
  },
  {
   "cell_type": "code",
   "execution_count": null,
   "metadata": {},
   "outputs": [],
   "source": [
    "# Print the current balance of the stock and bond portion of the members portfolio\n",
    "# YOUR CODE HERE\n"
   ]
  },
  {
   "cell_type": "code",
   "execution_count": null,
   "metadata": {},
   "outputs": [],
   "source": [
    "# Use the lower and upper `95%` confidence intervals to calculate the range of the possible outcomes for the current stock/bond portfolio\n",
    "ci_lower_ten_cumulative_return = # YOUR CODE HERE\n",
    "ci_upper_ten_cumulative_return = # YOUR CODE HERE\n",
    "\n",
    "# Print the result of your calculations\n",
    "# YOUR CODE HERE\n"
   ]
  },
  {
   "cell_type": "markdown",
   "metadata": {},
   "source": [
    "#### Question: Will weighting the portfolio more heavily to stocks allow the credit union members to retire after only 10 years?"
   ]
  },
  {
   "cell_type": "raw",
   "metadata": {},
   "source": [
    "**Answer** # YOUR ANSWER HERE"
   ]
  },
  {
   "cell_type": "code",
   "execution_count": null,
   "metadata": {},
   "outputs": [],
   "source": []
  }
 ],
 "metadata": {
  "kernelspec": {
   "display_name": "Python 3 (ipykernel)",
   "language": "python",
   "name": "python3"
  },
  "language_info": {
   "codemirror_mode": {
    "name": "ipython",
    "version": 3
   },
   "file_extension": ".py",
   "mimetype": "text/x-python",
   "name": "python",
   "nbconvert_exporter": "python",
   "pygments_lexer": "ipython3",
   "version": "3.9.7"
  }
 },
 "nbformat": 4,
 "nbformat_minor": 4
}
